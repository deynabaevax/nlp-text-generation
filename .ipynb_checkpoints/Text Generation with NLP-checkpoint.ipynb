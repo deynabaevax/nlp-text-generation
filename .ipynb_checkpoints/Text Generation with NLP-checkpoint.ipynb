{
 "cells": [
  {
   "cell_type": "markdown",
   "id": "81cfbc5f-c442-487e-a06a-18fc3621d77b",
   "metadata": {},
   "source": [
    "# Introduction \n",
    "\n",
    "A language model can predict the probability of the next word in the sequence, based on the words already observed in the sequence. Neural network models are a preferred method for developing statistical language models because they can use a distributed representation, where different words with similar meanings have similar representation and because they can use a large context of recently observed words when making predictions.\n",
    "\n",
    "# Goals\n",
    "\n",
    "    1. Prepare text for developing a word-based language model.\n",
    "    2. Design and fit a neural language model with a learned embedding and an LSTM hidden layer.\n",
    "    3. Use the learned language model to generate new text with similar statistical properties as the source text.\n",
    "    \n",
    "# Overview\n",
    "\n",
    "    1. The Data\n",
    "    2. Data Preparation\n",
    "    3. Train the Language Model\n",
    "    4. Use the Language Model\n"
   ]
  },
  {
   "cell_type": "code",
   "execution_count": null,
   "id": "f90186e0-5125-4cbf-8fdd-6296020a65dc",
   "metadata": {},
   "outputs": [],
   "source": []
  },
  {
   "cell_type": "code",
   "execution_count": null,
   "id": "99192393-c69d-4f46-a461-c42b66a5162b",
   "metadata": {},
   "outputs": [],
   "source": []
  },
  {
   "cell_type": "code",
   "execution_count": null,
   "id": "2f1c37c4-f94e-428f-8b22-ae0861aa8385",
   "metadata": {},
   "outputs": [],
   "source": []
  },
  {
   "cell_type": "code",
   "execution_count": null,
   "id": "9f31f113-d2fa-4de8-be84-0a693de325cc",
   "metadata": {},
   "outputs": [],
   "source": []
  }
 ],
 "metadata": {
  "kernelspec": {
   "display_name": "Python 3 (ipykernel)",
   "language": "python",
   "name": "python3"
  },
  "language_info": {
   "codemirror_mode": {
    "name": "ipython",
    "version": 3
   },
   "file_extension": ".py",
   "mimetype": "text/x-python",
   "name": "python",
   "nbconvert_exporter": "python",
   "pygments_lexer": "ipython3",
   "version": "3.8.8"
  }
 },
 "nbformat": 4,
 "nbformat_minor": 5
}
