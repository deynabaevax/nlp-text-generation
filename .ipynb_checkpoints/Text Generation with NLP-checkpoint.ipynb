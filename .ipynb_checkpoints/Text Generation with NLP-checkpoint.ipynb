{
 "cells": [
  {
   "cell_type": "markdown",
   "id": "81cfbc5f-c442-487e-a06a-18fc3621d77b",
   "metadata": {},
   "source": [
    "<center>\n",
    "    <h1>Generating Text with NLP</h1>\n",
    "    <img width=\"700px\" src=\"https://www.history.com/.image/c_fill%2Ccs_srgb%2Cfl_progressive%2Ch_400%2Cq_auto:good%2Cw_620/MTU3ODc5MDg2MTY3NjMxMTc3/plato-2.jpg\">\n",
    "</center>\n",
    "\n",
    "# Introduction \n",
    "\n",
    "A language model can predict the probability of the next word in the sequence, based on the words already observed in the sequence. Neural network models are a preferred method for developing statistical language models because they can use a distributed representation, where different words with similar meanings have similar representation and because they can use a large context of recently observed words when making predictions.\n",
    "\n",
    "# Goals\n",
    "\n",
    "    1. Prepare text for developing a word-based language model.\n",
    "    2. Design and fit a neural language model with a learned embedding and an LSTM hidden layer.\n",
    "    3. Use the learned language model to generate new text with similar statistical properties as the source text.\n",
    "\n",
    "# The Dataset\n",
    "The Republic is the classical Greek philosopher Plato's most famous work. It is structured as a dialog on the topic of order and justice within a city state. I got the file from the Project Gutenberg's website. <a href=\"http://www.gutenberg.org/cache/epub/1497/pg1497.txt\">Link</a> to the dataset.\n",
    "\n",
    "# Overview\n",
    "\n",
    "    1. The Data\n",
    "    2. Data Preparation\n",
    "    3. Train the Language Model\n",
    "    4. Use the Language Model\n"
   ]
  },
  {
   "cell_type": "markdown",
   "id": "f879c3a4-3ecb-4ad0-86e1-df561d7f8d4c",
   "metadata": {},
   "source": [
    "## Data Preparation\n",
    "\n",
    "The data contains \n",
    "    - chapter heading (e.g. BOOK I)\n",
    "    - many punctuations, (e.g. -, ;, ?, :, etc.)\n",
    "    - long monologues\n",
    "    - quoted dialogs"
   ]
  },
  {
   "cell_type": "code",
   "execution_count": 3,
   "id": "74b596d6-b384-4815-8f7c-232f29fd41fb",
   "metadata": {},
   "outputs": [],
   "source": [
    "# import libraries\n",
    "import numpy as np\n",
    "import pandas as pd\n",
    "import os\n",
    "import re\n",
    "import string\n",
    "from random import randint\n",
    "\n",
    "from keras.preprocessing.text import Tokenizer\n",
    "from keras.utils import to_categorical\n",
    "from keras_preprocessing.sequence import pad_sequences\n",
    "\n",
    "from keras.models import Sequential\n",
    "from keras.layers import Conv1D, MaxPooling1D, LSTM, Embedding, Dense, Dropout\n",
    "\n",
    "from keras.utils.vis_utils import plot_model"
   ]
  },
  {
   "cell_type": "code",
   "execution_count": 9,
   "id": "f90186e0-5125-4cbf-8fdd-6296020a65dc",
   "metadata": {},
   "outputs": [],
   "source": [
    "# load the txt file in the memory\n",
    "def load_doc(file_name):\n",
    "    # open the file as read-only\n",
    "    file = open(file_name, \"r\", encoding='utf8')\n",
    "    # read all text\n",
    "    text = file.read()\n",
    "    # close the file\n",
    "    file.close()\n",
    "    return text"
   ]
  },
  {
   "cell_type": "code",
   "execution_count": 13,
   "id": "0adfc464-3c84-49a4-88f0-4cc6528ee60a",
   "metadata": {},
   "outputs": [
    {
     "name": "stdout",
     "output_type": "stream",
     "text": [
      "﻿The Project Gutenberg eBook of The Republic, by Plato\n",
      "\n",
      "This eBook is for the use of anyone anywhere in the United States and\n",
      "most other parts of the world at no cost and with almost no restrictions\n",
      "whatsoever. You may copy it, give it away or re-use it under the terms\n",
      "of the Project Gutenberg License included with this eBook or online at\n",
      "www.gutenberg.org. If you are not located in the United States, you\n",
      "will have to check the laws of the country where you are located before\n",
      "using this eBook.\n",
      "\n",
      "Title: The Republic\n",
      "\n",
      "Author: Plato\n",
      "\n",
      "Translator: B. Jowett\n",
      "\n",
      "Release Date: October, 1998 [eBook #1497]\n",
      "[Most recently updated: September 11, 2021]\n",
      "\n",
      "Language: English\n",
      "\n",
      "\n",
      "Produced by: Sue Asscher and David Widger\n",
      "\n",
      "*** START OF THE PROJECT GUTENBERG EBOOK THE REPUBLIC ***\n",
      "\n",
      "\n",
      "\n",
      "\n",
      "THE REPUBLIC\n",
      "\n",
      "By Plato\n",
      "\n",
      "Trans\n"
     ]
    }
   ],
   "source": [
    "# load document\n",
    "in_filename = 'pg1497.txt'\n",
    "doc = load_doc(in_filename)\n",
    "print(doc[:800])"
   ]
  },
  {
   "cell_type": "code",
   "execution_count": 15,
   "id": "99192393-c69d-4f46-a461-c42b66a5162b",
   "metadata": {},
   "outputs": [
    {
     "data": {
      "text/plain": [
       "[967, 38188, 553671]"
      ]
     },
     "execution_count": 15,
     "metadata": {},
     "output_type": "execute_result"
    }
   ],
   "source": [
    "# reference: https://pynative.com/python-regex-findall-finditer/\n",
    "# find the beginning of the book\n",
    "[m.start() for m in re.finditer('BOOK I\\.', doc)]"
   ]
  },
  {
   "cell_type": "code",
   "execution_count": 20,
   "id": "2f1c37c4-f94e-428f-8b22-ae0861aa8385",
   "metadata": {},
   "outputs": [
    {
     "data": {
      "text/plain": [
       "[1195178]"
      ]
     },
     "execution_count": 20,
     "metadata": {},
     "output_type": "execute_result"
    }
   ],
   "source": [
    "# find the end of the book\n",
    "[m.start() for m in re.finditer('years which we have been describing', doc)]"
   ]
  },
  {
   "cell_type": "code",
   "execution_count": 25,
   "id": "47d6f972-90d2-470f-830f-6d5f476217a7",
   "metadata": {},
   "outputs": [
    {
     "name": "stdout",
     "output_type": "stream",
     "text": [
      "BOOK I.\n",
      "\n",
      "\n",
      "I went down yesterday to the Piraeus with Glaucon the son of Ariston,\n",
      "that I might offer up my prayers to the goddess (Bendis, the Thracian\n",
      "Artemis.); and also because I wanted to see in wha\n"
     ]
    }
   ],
   "source": [
    "doc = doc[553671:1195178]\n",
    "\n",
    "print(doc[:200])"
   ]
  },
  {
   "cell_type": "markdown",
   "id": "661b7c31-d8cc-4eaf-b4c7-74d42956712e",
   "metadata": {},
   "source": [
    "## Cleaning the Text"
   ]
  },
  {
   "cell_type": "code",
   "execution_count": 29,
   "id": "f533671a-2b10-4589-baa9-1565aaf796ea",
   "metadata": {},
   "outputs": [],
   "source": [
    "# turn the doc into clean tokens\n",
    "def clean_doc(doc):\n",
    "    # replace \"--\" with a space \" \"\n",
    "    doc = doc.replace(\"--\", \" \")\n",
    "    # split into tokens by white space\n",
    "    tokens = doc.split()\n",
    "    # prepare regex for char filtering\n",
    "    re_punc = re.compile(\"[%s]\" % re.escape(string.punctuation))\n",
    "    # remove punctuation from each word\n",
    "    tokens = [re_punc.sub(\"\", w) for w in tokens]\n",
    "    # remove the remaining tokens, which are not alphabetic\n",
    "    tokens = [word for word in tokens if word.isalpha()]\n",
    "    # make lower case\n",
    "    tokens = [word.lower() for word in tokens]\n",
    "    return tokens"
   ]
  },
  {
   "cell_type": "code",
   "execution_count": 30,
   "id": "4a2eea2a-ebda-4623-b543-5c981d9d6ee2",
   "metadata": {},
   "outputs": [
    {
     "name": "stdout",
     "output_type": "stream",
     "text": [
      "['book', 'i', 'i', 'went', 'down', 'yesterday', 'to', 'the', 'piraeus', 'with', 'glaucon', 'the', 'son', 'of', 'ariston', 'that', 'i', 'might', 'offer', 'up', 'my', 'prayers', 'to', 'the', 'goddess', 'bendis', 'the', 'thracian', 'artemis', 'and', 'also', 'because', 'i', 'wanted', 'to', 'see', 'in', 'what', 'manner', 'they', 'would', 'celebrate', 'the', 'festival', 'which', 'was', 'a', 'new', 'thing', 'i', 'was', 'delighted', 'with', 'the', 'procession', 'of', 'the', 'inhabitants', 'but', 'that', 'of', 'the', 'thracians', 'was', 'equally', 'if', 'not', 'more', 'beautiful', 'when', 'we', 'had', 'finished', 'our', 'prayers', 'and', 'viewed', 'the', 'spectacle', 'we', 'turned', 'in', 'the', 'direction', 'of', 'the', 'city', 'and', 'at', 'that', 'instant', 'polemarchus', 'the', 'son', 'of', 'cephalus', 'chanced', 'to', 'catch', 'sight', 'of', 'us', 'from', 'a', 'distance', 'as', 'we', 'were', 'starting', 'on', 'our', 'way', 'home', 'and', 'told', 'his', 'servant', 'to', 'run', 'and', 'bid', 'us', 'wait', 'for', 'him', 'the', 'servant', 'took', 'hold', 'of', 'me', 'by', 'the', 'cloak', 'behind', 'and', 'said', 'polemarchus', 'desires', 'you', 'to', 'wait', 'i', 'turned', 'round', 'and', 'asked', 'him', 'where', 'his', 'master', 'was', 'there', 'he', 'is', 'said', 'the', 'youth', 'coming', 'after', 'you', 'if', 'you', 'will', 'only', 'wait', 'certainly', 'we', 'will', 'said', 'glaucon', 'and', 'in', 'a', 'few', 'minutes', 'polemarchus', 'appeared', 'and', 'with', 'him', 'adeimantus', 'brother', 'niceratus', 'the', 'son', 'of', 'nicias', 'and', 'several', 'others', 'who', 'had', 'been', 'at', 'the', 'procession', 'polemarchus', 'said', 'to']\n",
      "Total Tokens: 117336\n",
      "Unique Tokens: 7323\n"
     ]
    }
   ],
   "source": [
    "# clean doc\n",
    "tokens = clean_doc(doc)\n",
    "print(tokens[:200])\n",
    "print('Total Tokens: %d' % len(tokens))\n",
    "print('Unique Tokens: %d' % len(set(tokens)))"
   ]
  },
  {
   "cell_type": "markdown",
   "id": "ffbb50ff-3747-4351-913b-f4119fcae3e6",
   "metadata": {},
   "source": [
    "### Save the Cleaned Text\n",
    "Organize the long list of tokens into sequences of 50 input words and 1 output word. These are sequences of 51 words. A possible way is to iterate over the list of tokens from token 51 onwards and taking the prior 50 tokens as a sequence, then repeating this process to the end of the list of tokens. Then transform the tokens into space-separated strings for later storage in a file. "
   ]
  },
  {
   "cell_type": "code",
   "execution_count": 31,
   "id": "ce10c547-e76e-4dd0-aa64-eef38d5c9b66",
   "metadata": {},
   "outputs": [
    {
     "name": "stdout",
     "output_type": "stream",
     "text": [
      "Total Sequences: 117285\n"
     ]
    }
   ],
   "source": [
    "# organize into sequence of tokens\n",
    "length = 50 + 1\n",
    "seq = list()\n",
    "\n",
    "for i in range(length, len(tokens)):\n",
    "    # select sequence of tokens\n",
    "    s = tokens[i-length:i]\n",
    "    # convert into a line\n",
    "    line = \" \".join(s)\n",
    "    # store\n",
    "    seq.append(line)\n",
    "print(\"Total Sequences: %d\" % len(seq))"
   ]
  },
  {
   "cell_type": "markdown",
   "id": "e8081536-ee64-461b-8c3a-dea7151e8cb3",
   "metadata": {},
   "source": [
    "Running the above piece creates a long list of lines. Printing statistics on the list, I can see that I have exactly 117,285 training patterns to fit the model later.\n",
    "\n",
    "\n",
    "Next, I can save the sequences to a new file for later loading. I can define a new function for saving lines of text to a file. This new function is called save_doc() and is listed below. It takes as input a list of lines and a filename. The lines are written, one per line, in ASCII format."
   ]
  },
  {
   "cell_type": "code",
   "execution_count": 32,
   "id": "16328a23-213d-47bf-96db-86279c27ee93",
   "metadata": {},
   "outputs": [],
   "source": [
    "# save tokens to a file, one dialog per line\n",
    "def save_doc(lines, filename):\n",
    "    data = \"\\n\".join(lines)\n",
    "    file = open(filename, \"w\")\n",
    "    file.write(data)\n",
    "    file.close()"
   ]
  },
  {
   "cell_type": "code",
   "execution_count": 33,
   "id": "e8e2feef-6f65-4083-ba31-19f996718009",
   "metadata": {},
   "outputs": [],
   "source": [
    "# save sequences to file\n",
    "out_filename = 'sequences.txt'\n",
    "save_doc(seq, out_filename)"
   ]
  },
  {
   "cell_type": "markdown",
   "id": "319df5c5-a05a-4b73-9034-1fde5a0ff9b6",
   "metadata": {},
   "source": [
    "## Prepare the Model for Training"
   ]
  },
  {
   "cell_type": "code",
   "execution_count": 39,
   "id": "57cffe02-f3da-499b-86da-560a11c8abfc",
   "metadata": {},
   "outputs": [],
   "source": [
    "# load doc into memory\n",
    "def load_doc(filename):\n",
    "    # open the file as read only\n",
    "    file = open(filename, 'r')\n",
    "    # read all text\n",
    "    text = file.read()\n",
    "    # close the file\n",
    "    file.close()\n",
    "    return text"
   ]
  },
  {
   "cell_type": "code",
   "execution_count": 40,
   "id": "8c033414-535e-4aea-aacf-91bb4086477d",
   "metadata": {},
   "outputs": [],
   "source": [
    "# load\n",
    "in_filename = 'sequences.txt'\n",
    "doc = load_doc(in_filename)\n",
    "lines = doc.split('\\n')"
   ]
  },
  {
   "cell_type": "markdown",
   "id": "e4954cff-a7c0-4213-928f-169b357fecfe",
   "metadata": {},
   "source": [
    "## Encode Sequences\n",
    "\n",
    "The word embedding layer expects input sequences to be comprised of integers. Each word can be mapped in the vocabulary to a unique integer and encode the input sequences. Later, when the predictions are made, the predictions can be converted to numbers and look up their associated words in the same mapping. To do this encoding, the Tokenizer class from Keras will be used.\n",
    "First, the Tokenizer must be trained on the entire training dataset, which means it finds all of the unique words in the data and assigns each a unique integer. Then use the fit Tokenizer to encode all of the training sequences, converting each sequence from a list of words to a list of integers."
   ]
  },
  {
   "cell_type": "code",
   "execution_count": 41,
   "id": "7d413fdc-300f-418d-85b0-394f6d39f4c8",
   "metadata": {},
   "outputs": [],
   "source": [
    "# int encode sequences of words\n",
    "tokenizer = Tokenizer()\n",
    "tokenizer.fit_on_texts(lines)\n",
    "seq = tokenizer.texts_to_sequences(lines)"
   ]
  },
  {
   "cell_type": "markdown",
   "id": "f6d1e94d-d6a3-452a-aa4c-b025c14ef2ec",
   "metadata": {},
   "source": [
    "Accessing the mapping of words to integers as a dictionary attribute called word index on the Tokenizer object. The size of the vocabulary for defining the embedding layer needs to be known. To determine the vocabulary is done by calculating the size of the mapping dictionary. Words are assigned values from 1 to the total number of words (e.g. 7,323). The Embedding layer needs to allocate a vector representation for each word in this vocabulary from index 1 to the largest index and because indexing of arrays is zero-offset, the index of the word at the end of the vocabulary will be 7,323; that means the array must be 7,323 + 1 in length. Therefore, when specifying the vocabulary size to the Embedding layer, specify it as 1 larger than the actual vocabulary."
   ]
  },
  {
   "cell_type": "code",
   "execution_count": 42,
   "id": "c72d00a0-40bf-47d5-98ff-76de3f653c5f",
   "metadata": {},
   "outputs": [],
   "source": [
    "# vocab size\n",
    "vocab_size = len(tokenizer.word_index) + 1"
   ]
  },
  {
   "cell_type": "markdown",
   "id": "653efbf6-d363-4860-b9bc-075f35a3a0cb",
   "metadata": {},
   "source": [
    "### Sequence Inputs and Output\n",
    "\n",
    "Now that the input sequences are encoded, next it is needed to separate them into input (X) and output (y) elements. This could possibly be done with array slicing. After separating, it is needed to one hot encode the output word. This means converting it from an integer to a vector of 0 values, one for each word in the vocabulary, with a 1 to indicate the specific word at the index of the words integer value.\n",
    "This is so that the model learns to predict the probability distribution for the next word and the ground truth from which to learn from is 0 for all words except the actual word that comes next. Keras provides the to_categorical() that can be used to one hot encode the output words for each input-output sequence pair.\n",
    "Finally, it needs to be specified to the Embedding layer how long input sequences will be. I already know that there are 50 words because I made the model, but a good generic way to specify that is to use the second dimension (number of columns) of the input data's shape. That way, if I change the length of sequences when preparing data, I will not need to change this data loading code because it will be generic."
   ]
  },
  {
   "cell_type": "code",
   "execution_count": 46,
   "id": "1ce136f7-8a69-4c6a-a43b-7d70889049bf",
   "metadata": {},
   "outputs": [],
   "source": [
    "# split text data into input and output sequences\n",
    "seq = np.array(seq)\n",
    "X, y = seq[:,:-1], seq[:,-1]\n",
    "y = to_categorical(y, num_classes=vocab_size)\n",
    "seq_length = X.shape[1]"
   ]
  },
  {
   "cell_type": "markdown",
   "id": "eaae121b-f462-49a3-aa72-1d701a044405",
   "metadata": {},
   "source": [
    "### Fit the Model\n",
    "\n",
    "I can now define and fit the language model on the training data. The learned embedding needs to know the size of the vocabulary and the length of input sequences as previously discussed. It also has a parameter to specify how many dimensions will be used to represent each word. That is, the size of the embedding vector space.\n",
    "Common values are 50, 100, and 300. I will use 50 here, but maybe I will consider testing smaller or larger values. I will use a two LSTM hidden layers with 100 memory cells each. More memory cells and a deeper network may achieve better results.\n",
    "A dense fully connected layer with 100 neurons connects to the LSTM hidden layers to interpret the features extracted from the sequence. The output layer predicts the next word as a single vector the size of the vocabulary with a probability for each word in the vocabulary. A softmax activation function is used to ensure the outputs have the characteristics of normalized probabilities.\n",
    "\n",
    "<i>Reference: <a href=\"https://machinelearningmastery.com/return-sequences-and-return-states-for-lstms-in-keras/\">https://machinelearningmastery.com/return-sequences-and-return-states-for-lstms-in-keras/</a></i>"
   ]
  },
  {
   "cell_type": "code",
   "execution_count": 58,
   "id": "79858aae-9ef6-42be-a329-07d28927c42e",
   "metadata": {},
   "outputs": [],
   "source": [
    "# define the model\n",
    "model = Sequential()\n",
    "model.add(Embedding(vocab_size, 50, input_length=seq_length))\n",
    "model.add(LSTM(100, return_sequences=True)) # return_sequences=True makes it possible to access the hidden state output for each input time step\n",
    "model.add(LSTM(100))\n",
    "model.add(Dense(100, activation=\"relu\"))\n",
    "model.add(Dense(vocab_size, activation=\"softmax\"))"
   ]
  },
  {
   "cell_type": "code",
   "execution_count": 59,
   "id": "98b369c8-aa3b-41fb-a47c-5e0eb88cbb1f",
   "metadata": {},
   "outputs": [],
   "source": [
    "#compile the model\n",
    "model.compile(loss=\"categorical_crossentropy\", optimizer=\"adam\", metrics=[\"accuracy\"])"
   ]
  },
  {
   "cell_type": "code",
   "execution_count": 60,
   "id": "9f31f113-d2fa-4de8-be84-0a693de325cc",
   "metadata": {},
   "outputs": [
    {
     "name": "stdout",
     "output_type": "stream",
     "text": [
      "Model: \"sequential_1\"\n",
      "_________________________________________________________________\n",
      " Layer (type)                Output Shape              Param #   \n",
      "=================================================================\n",
      " embedding_1 (Embedding)     (None, 50, 50)            366200    \n",
      "                                                                 \n",
      " lstm_2 (LSTM)               (None, 50, 100)           60400     \n",
      "                                                                 \n",
      " lstm_3 (LSTM)               (None, 100)               80400     \n",
      "                                                                 \n",
      " dense_2 (Dense)             (None, 100)               10100     \n",
      "                                                                 \n",
      " dense_3 (Dense)             (None, 7324)              739724    \n",
      "                                                                 \n",
      "=================================================================\n",
      "Total params: 1,256,824\n",
      "Trainable params: 1,256,824\n",
      "Non-trainable params: 0\n",
      "_________________________________________________________________\n"
     ]
    },
    {
     "data": {
      "image/png": "[encoded data removed]",
      "text/plain": [
       "<IPython.core.display.Image object>"
      ]
     },
     "execution_count": 60,
     "metadata": {},
     "output_type": "execute_result"
    }
   ],
   "source": [
    "# summarize the defined model and plot the model\n",
    "model.summary()\n",
    "plot_model(model, to_file=\"model.png\", show_shapes=True)"
   ]
  },
  {
   "cell_type": "code",
   "execution_count": 61,
   "id": "98c6e3e3-ed36-44ba-b681-a0bf57a782ad",
   "metadata": {},
   "outputs": [
    {
     "name": "stdout",
     "output_type": "stream",
     "text": [
      "Epoch 1/50\n",
      "917/917 [==============================] - 296s 317ms/step - loss: 6.1516 - accuracy: 0.0744\n",
      "Epoch 2/50\n",
      "917/917 [==============================] - 291s 317ms/step - loss: 5.7064 - accuracy: 0.1050\n",
      "Epoch 3/50\n",
      "917/917 [==============================] - 268s 292ms/step - loss: 5.4846 - accuracy: 0.1280\n",
      "Epoch 4/50\n",
      "917/917 [==============================] - 279s 304ms/step - loss: 5.3180 - accuracy: 0.1417\n",
      "Epoch 5/50\n",
      "917/917 [==============================] - 265s 289ms/step - loss: 5.2043 - accuracy: 0.1504\n",
      "Epoch 6/50\n",
      "917/917 [==============================] - 267s 291ms/step - loss: 5.1115 - accuracy: 0.1573\n",
      "Epoch 7/50\n",
      "917/917 [==============================] - 275s 299ms/step - loss: 5.0295 - accuracy: 0.1622\n",
      "Epoch 8/50\n",
      "917/917 [==============================] - 266s 290ms/step - loss: 4.9529 - accuracy: 0.1670\n",
      "Epoch 9/50\n",
      "917/917 [==============================] - 290s 317ms/step - loss: 4.8774 - accuracy: 0.1716\n",
      "Epoch 10/50\n",
      "917/917 [==============================] - 277s 302ms/step - loss: 4.8074 - accuracy: 0.1769\n",
      "Epoch 11/50\n",
      "917/917 [==============================] - 276s 301ms/step - loss: 4.7397 - accuracy: 0.1799\n",
      "Epoch 12/50\n",
      "917/917 [==============================] - 270s 294ms/step - loss: 4.6763 - accuracy: 0.1840\n",
      "Epoch 13/50\n",
      "917/917 [==============================] - 281s 306ms/step - loss: 4.6172 - accuracy: 0.1873\n",
      "Epoch 14/50\n",
      "917/917 [==============================] - 297s 324ms/step - loss: 4.5602 - accuracy: 0.1906\n",
      "Epoch 15/50\n",
      "917/917 [==============================] - 292s 318ms/step - loss: 4.5078 - accuracy: 0.1927\n",
      "Epoch 16/50\n",
      "917/917 [==============================] - 300s 327ms/step - loss: 4.4566 - accuracy: 0.1956\n",
      "Epoch 17/50\n",
      "917/917 [==============================] - 317s 346ms/step - loss: 4.4086 - accuracy: 0.1974\n",
      "Epoch 18/50\n",
      "917/917 [==============================] - 314s 343ms/step - loss: 4.3631 - accuracy: 0.1993\n",
      "Epoch 19/50\n",
      "917/917 [==============================] - 313s 341ms/step - loss: 4.3179 - accuracy: 0.2020\n",
      "Epoch 20/50\n",
      "917/917 [==============================] - 319s 348ms/step - loss: 4.2770 - accuracy: 0.2047\n",
      "Epoch 21/50\n",
      "917/917 [==============================] - 314s 342ms/step - loss: 4.2368 - accuracy: 0.2067\n",
      "Epoch 22/50\n",
      "917/917 [==============================] - 316s 344ms/step - loss: 4.1995 - accuracy: 0.2088\n",
      "Epoch 23/50\n",
      "917/917 [==============================] - 324s 353ms/step - loss: 4.1635 - accuracy: 0.2119\n",
      "Epoch 24/50\n",
      "917/917 [==============================] - 328s 357ms/step - loss: 4.1302 - accuracy: 0.2144\n",
      "Epoch 25/50\n",
      "917/917 [==============================] - 333s 364ms/step - loss: 4.1003 - accuracy: 0.2162\n",
      "Epoch 26/50\n",
      "917/917 [==============================] - 326s 355ms/step - loss: 4.0682 - accuracy: 0.2185\n",
      "Epoch 27/50\n",
      "917/917 [==============================] - 335s 366ms/step - loss: 4.0401 - accuracy: 0.2206\n",
      "Epoch 28/50\n",
      "917/917 [==============================] - 341s 371ms/step - loss: 4.0128 - accuracy: 0.2228\n",
      "Epoch 29/50\n",
      "917/917 [==============================] - 346s 378ms/step - loss: 3.9876 - accuracy: 0.2259\n",
      "Epoch 30/50\n",
      "917/917 [==============================] - 332s 362ms/step - loss: 3.9635 - accuracy: 0.2277\n",
      "Epoch 31/50\n",
      "917/917 [==============================] - 349s 381ms/step - loss: 3.9376 - accuracy: 0.2305\n",
      "Epoch 32/50\n",
      "917/917 [==============================] - 322s 351ms/step - loss: 3.9149 - accuracy: 0.2321\n",
      "Epoch 33/50\n",
      "917/917 [==============================] - 320s 349ms/step - loss: 3.8909 - accuracy: 0.2350\n",
      "Epoch 34/50\n",
      "917/917 [==============================] - 1574s 2s/step - loss: 3.8693 - accuracy: 0.2371\n",
      "Epoch 35/50\n",
      "917/917 [==============================] - 273s 298ms/step - loss: 3.8487 - accuracy: 0.2394\n",
      "Epoch 36/50\n",
      "917/917 [==============================] - 544s 594ms/step - loss: 3.8289 - accuracy: 0.2420\n",
      "Epoch 37/50\n",
      "917/917 [==============================] - 271s 295ms/step - loss: 3.8059 - accuracy: 0.2430\n",
      "Epoch 38/50\n",
      "917/917 [==============================] - 269s 294ms/step - loss: 3.7863 - accuracy: 0.2457\n",
      "Epoch 39/50\n",
      "917/917 [==============================] - 1300s 1s/step - loss: 3.7660 - accuracy: 0.2479\n",
      "Epoch 40/50\n",
      "917/917 [==============================] - 296s 323ms/step - loss: 3.7473 - accuracy: 0.2500\n",
      "Epoch 41/50\n",
      "917/917 [==============================] - 288s 314ms/step - loss: 3.7299 - accuracy: 0.2523\n",
      "Epoch 42/50\n",
      "917/917 [==============================] - 277s 302ms/step - loss: 3.7086 - accuracy: 0.2557\n",
      "Epoch 43/50\n",
      "917/917 [==============================] - 273s 298ms/step - loss: 3.6909 - accuracy: 0.2561\n",
      "Epoch 44/50\n",
      "917/917 [==============================] - 281s 307ms/step - loss: 3.6717 - accuracy: 0.2589\n",
      "Epoch 45/50\n",
      "917/917 [==============================] - 536s 585ms/step - loss: 3.6542 - accuracy: 0.2603\n",
      "Epoch 46/50\n",
      "917/917 [==============================] - 646s 704ms/step - loss: 3.6365 - accuracy: 0.2627\n",
      "Epoch 47/50\n",
      "917/917 [==============================] - 277s 302ms/step - loss: 3.6181 - accuracy: 0.2649\n",
      "Epoch 48/50\n",
      "917/917 [==============================] - 295s 322ms/step - loss: 3.6019 - accuracy: 0.2668\n",
      "Epoch 49/50\n",
      "917/917 [==============================] - 296s 322ms/step - loss: 3.5860 - accuracy: 0.2694\n",
      "Epoch 50/50\n",
      "917/917 [==============================] - 304s 332ms/step - loss: 3.5690 - accuracy: 0.2715\n"
     ]
    },
    {
     "data": {
      "text/plain": [
       "<keras.callbacks.History at 0x22f3fbe3d60>"
      ]
     },
     "execution_count": 61,
     "metadata": {},
     "output_type": "execute_result"
    }
   ],
   "source": [
    "model.fit(X, y, batch_size=128, epochs=50)"
   ]
  },
  {
   "cell_type": "code",
   "execution_count": 64,
   "id": "44560990-8518-46f3-b08c-7db79572cf20",
   "metadata": {},
   "outputs": [],
   "source": [
    "from joblib import dump\n",
    "# save the model to file\n",
    "model.save('model.h5')\n",
    "# save the tokenizer\n",
    "dump(tokenizer, open('tokenizer.pkl', 'wb'))"
   ]
  },
  {
   "cell_type": "markdown",
   "id": "4d44c94a-1c6a-4b96-a2f9-478a3577d43b",
   "metadata": {},
   "source": [
    "## Use the Model\n",
    "Now that the model has trained a bit (4 hours), I can use it. In this case, I can use it to generate new sequences of text that have the same statistical properties as the source text.I will start by loading the training sequences again."
   ]
  },
  {
   "cell_type": "code",
   "execution_count": 78,
   "id": "810a8d08-93a5-4846-a03e-051b291ab837",
   "metadata": {},
   "outputs": [],
   "source": [
    "# it's not very practical to load the same function again but it'll work for testing\n",
    "# load doc into memory\n",
    "def load_doc(filename):\n",
    "    # open the file as read only\n",
    "    file = open(filename, 'r', encoding='utf-8')\n",
    "    # read all text\n",
    "    text = file.read()\n",
    "    # close the file\n",
    "    file.close()\n",
    "    return text\n",
    "\n",
    "# load cleaned text sequences\n",
    "in_filename = 'pg1497.txt'\n",
    "doc = load_doc(in_filename, )\n",
    "lines = doc.split('\\n')"
   ]
  },
  {
   "cell_type": "markdown",
   "id": "d244e219-2616-4d6f-b924-3d03788b3330",
   "metadata": {},
   "source": [
    "I need the text so that I can choose a source sequence as input to the model for generating a new sequence of text. The model will require 50 words as input. Later, I will need to specify the expected length of input. I can determine this from the input sequences by calculating the length of one line of the loaded data and subtracting 1 for the expected output word that is also on the same line."
   ]
  },
  {
   "cell_type": "code",
   "execution_count": 77,
   "id": "453b0e24-f133-4e3b-bd9e-d45d31c3ebd1",
   "metadata": {},
   "outputs": [],
   "source": [
    "seq_length = len(lines[0].split()) - 1"
   ]
  },
  {
   "cell_type": "markdown",
   "id": "22f88129-91c4-4832-81df-e30c50ab15ed",
   "metadata": {},
   "source": [
    "### Load the Model"
   ]
  },
  {
   "cell_type": "code",
   "execution_count": 81,
   "id": "3095396a-d131-4d0e-905e-b04b49a14ec3",
   "metadata": {},
   "outputs": [],
   "source": [
    "from tensorflow.keras.models import load_model\n",
    "\n",
    "# load the model\n",
    "model = load_model('model.h5')"
   ]
  },
  {
   "cell_type": "code",
   "execution_count": 90,
   "id": "49bc7201-fc3f-46df-8611-35ef1eb5404e",
   "metadata": {},
   "outputs": [],
   "source": [
    "# import socket\n",
    "# # load the tokenizer\n",
    "# tokenizer = load(open('tokenizer.pkl', 'rb'))"
   ]
  },
  {
   "cell_type": "code",
   "execution_count": 87,
   "id": "40b9d9e2-9f21-4a2b-9a5c-176b175a447e",
   "metadata": {},
   "outputs": [
    {
     "name": "stdout",
     "output_type": "stream",
     "text": [
      "an imitator?\n",
      "\n"
     ]
    }
   ],
   "source": [
    "# select a seed text\n",
    "seed_text = lines[randint(0,len(lines))]\n",
    "print(seed_text + '\\n')"
   ]
  },
  {
   "cell_type": "code",
   "execution_count": 88,
   "id": "5c57f3fa-dc72-48c7-9fe6-fe2b18b2a7bb",
   "metadata": {},
   "outputs": [],
   "source": [
    "encoded = tokenizer.texts_to_sequences([seed_text])[0]"
   ]
  },
  {
   "cell_type": "code",
   "execution_count": null,
   "id": "fb9306e1-ce93-441a-8cb9-c68547b7941f",
   "metadata": {},
   "outputs": [],
   "source": []
  },
  {
   "cell_type": "code",
   "execution_count": null,
   "id": "e32e4d46-241e-464c-91a7-9d2c1c14c5bb",
   "metadata": {},
   "outputs": [],
   "source": []
  }
 ],
 "metadata": {
  "kernelspec": {
   "display_name": "Python 3 (ipykernel)",
   "language": "python",
   "name": "python3"
  },
  "language_info": {
   "codemirror_mode": {
    "name": "ipython",
    "version": 3
   },
   "file_extension": ".py",
   "mimetype": "text/x-python",
   "name": "python",
   "nbconvert_exporter": "python",
   "pygments_lexer": "ipython3",
   "version": "3.8.8"
  }
 },
 "nbformat": 4,
 "nbformat_minor": 5
}
